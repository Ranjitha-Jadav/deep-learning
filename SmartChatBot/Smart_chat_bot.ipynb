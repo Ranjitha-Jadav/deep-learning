{
 "cells": [
  {
   "cell_type": "markdown",
   "metadata": {
    "id": "4zxOaSy4SXjQ"
   },
   "source": [
    "# this is a smart chat bot program"
   ]
  },
  {
   "cell_type": "code",
   "execution_count": 2,
   "metadata": {
    "colab": {
     "base_uri": "https://localhost:8080/"
    },
    "id": "MoRqweOlT94g",
    "outputId": "8aadc6e4-55ae-43d3-a4c8-f7c39e0eca4c"
   },
   "outputs": [
    {
     "name": "stdout",
     "output_type": "stream",
     "text": [
      "Requirement already satisfied: nltk in /usr/local/lib/python3.6/dist-packages (3.2.5)\n",
      "Requirement already satisfied: six in /usr/local/lib/python3.6/dist-packages (from nltk) (1.15.0)\n"
     ]
    }
   ],
   "source": [
    "pip install nltk"
   ]
  },
  {
   "cell_type": "code",
   "execution_count": 3,
   "metadata": {
    "colab": {
     "base_uri": "https://localhost:8080/"
    },
    "id": "_xahNqxVUDwq",
    "outputId": "84d833b3-adca-40c3-cc4c-336cf0f17dee"
   },
   "outputs": [
    {
     "name": "stdout",
     "output_type": "stream",
     "text": [
      "Collecting newspaper3k\n",
      "\u001b[?25l  Downloading https://files.pythonhosted.org/packages/d7/b9/51afecb35bb61b188a4b44868001de348a0e8134b4dfa00ffc191567c4b9/newspaper3k-0.2.8-py3-none-any.whl (211kB)\n",
      "\u001b[K     |████████████████████████████████| 215kB 5.9MB/s \n",
      "\u001b[?25hCollecting tinysegmenter==0.3\n",
      "  Downloading https://files.pythonhosted.org/packages/17/82/86982e4b6d16e4febc79c2a1d68ee3b707e8a020c5d2bc4af8052d0f136a/tinysegmenter-0.3.tar.gz\n",
      "Requirement already satisfied: beautifulsoup4>=4.4.1 in /usr/local/lib/python3.6/dist-packages (from newspaper3k) (4.6.3)\n",
      "Collecting tldextract>=2.0.1\n",
      "\u001b[?25l  Downloading https://files.pythonhosted.org/packages/7e/62/b6acd3129c5615b9860e670df07fd55b76175b63e6b7f68282c7cad38e9e/tldextract-3.1.0-py2.py3-none-any.whl (87kB)\n",
      "\u001b[K     |████████████████████████████████| 92kB 8.8MB/s \n",
      "\u001b[?25hRequirement already satisfied: Pillow>=3.3.0 in /usr/local/lib/python3.6/dist-packages (from newspaper3k) (7.0.0)\n",
      "Collecting cssselect>=0.9.2\n",
      "  Downloading https://files.pythonhosted.org/packages/3b/d4/3b5c17f00cce85b9a1e6f91096e1cc8e8ede2e1be8e96b87ce1ed09e92c5/cssselect-1.1.0-py2.py3-none-any.whl\n",
      "Requirement already satisfied: lxml>=3.6.0 in /usr/local/lib/python3.6/dist-packages (from newspaper3k) (4.2.6)\n",
      "Requirement already satisfied: requests>=2.10.0 in /usr/local/lib/python3.6/dist-packages (from newspaper3k) (2.23.0)\n",
      "Collecting feedparser>=5.2.1\n",
      "\u001b[?25l  Downloading https://files.pythonhosted.org/packages/1c/21/faf1bac028662cc8adb2b5ef7a6f3999a765baa2835331df365289b0ca56/feedparser-6.0.2-py3-none-any.whl (80kB)\n",
      "\u001b[K     |████████████████████████████████| 81kB 7.8MB/s \n",
      "\u001b[?25hRequirement already satisfied: python-dateutil>=2.5.3 in /usr/local/lib/python3.6/dist-packages (from newspaper3k) (2.8.1)\n",
      "Requirement already satisfied: nltk>=3.2.1 in /usr/local/lib/python3.6/dist-packages (from newspaper3k) (3.2.5)\n",
      "Collecting jieba3k>=0.35.1\n",
      "\u001b[?25l  Downloading https://files.pythonhosted.org/packages/a9/cb/2c8332bcdc14d33b0bedd18ae0a4981a069c3513e445120da3c3f23a8aaa/jieba3k-0.35.1.zip (7.4MB)\n",
      "\u001b[K     |████████████████████████████████| 7.4MB 18.2MB/s \n",
      "\u001b[?25hCollecting feedfinder2>=0.0.4\n",
      "  Downloading https://files.pythonhosted.org/packages/35/82/1251fefec3bb4b03fd966c7e7f7a41c9fc2bb00d823a34c13f847fd61406/feedfinder2-0.0.4.tar.gz\n",
      "Requirement already satisfied: PyYAML>=3.11 in /usr/local/lib/python3.6/dist-packages (from newspaper3k) (3.13)\n",
      "Collecting requests-file>=1.4\n",
      "  Downloading https://files.pythonhosted.org/packages/77/86/cdb5e8eaed90796aa83a6d9f75cfbd37af553c47a291cd47bc410ef9bdb2/requests_file-1.5.1-py2.py3-none-any.whl\n",
      "Requirement already satisfied: filelock>=3.0.8 in /usr/local/lib/python3.6/dist-packages (from tldextract>=2.0.1->newspaper3k) (3.0.12)\n",
      "Requirement already satisfied: idna in /usr/local/lib/python3.6/dist-packages (from tldextract>=2.0.1->newspaper3k) (2.10)\n",
      "Requirement already satisfied: chardet<4,>=3.0.2 in /usr/local/lib/python3.6/dist-packages (from requests>=2.10.0->newspaper3k) (3.0.4)\n",
      "Requirement already satisfied: certifi>=2017.4.17 in /usr/local/lib/python3.6/dist-packages (from requests>=2.10.0->newspaper3k) (2020.12.5)\n",
      "Requirement already satisfied: urllib3!=1.25.0,!=1.25.1,<1.26,>=1.21.1 in /usr/local/lib/python3.6/dist-packages (from requests>=2.10.0->newspaper3k) (1.24.3)\n",
      "Collecting sgmllib3k\n",
      "  Downloading https://files.pythonhosted.org/packages/9e/bd/3704a8c3e0942d711c1299ebf7b9091930adae6675d7c8f476a7ce48653c/sgmllib3k-1.0.0.tar.gz\n",
      "Requirement already satisfied: six>=1.5 in /usr/local/lib/python3.6/dist-packages (from python-dateutil>=2.5.3->newspaper3k) (1.15.0)\n",
      "Building wheels for collected packages: tinysegmenter, jieba3k, feedfinder2, sgmllib3k\n",
      "  Building wheel for tinysegmenter (setup.py) ... \u001b[?25l\u001b[?25hdone\n",
      "  Created wheel for tinysegmenter: filename=tinysegmenter-0.3-cp36-none-any.whl size=13538 sha256=e895652af7cdcd9d480155b9444f2a9635ecbedbbad2d05f54735eee1db48c93\n",
      "  Stored in directory: /root/.cache/pip/wheels/81/2b/43/a02ede72324dd40cdd7ca53aad718c7710628e91b8b0dc0f02\n",
      "  Building wheel for jieba3k (setup.py) ... \u001b[?25l\u001b[?25hdone\n",
      "  Created wheel for jieba3k: filename=jieba3k-0.35.1-cp36-none-any.whl size=7398406 sha256=016320f764cfb231857f3c0c369725c7d925491916cf1c69be2dde40e7adfa1a\n",
      "  Stored in directory: /root/.cache/pip/wheels/83/15/9c/a3f1f67e7f7181170ad37d32e503c35da20627c013f438ed34\n",
      "  Building wheel for feedfinder2 (setup.py) ... \u001b[?25l\u001b[?25hdone\n",
      "  Created wheel for feedfinder2: filename=feedfinder2-0.0.4-cp36-none-any.whl size=3358 sha256=1ef5d628b697d7fed0ceb5c730eeb3b4987454e3fe3d9ecfe98fc8f02025055f\n",
      "  Stored in directory: /root/.cache/pip/wheels/de/03/ca/778e3a7a627e3d98836cc890e7cb40c7575424cfd3340f40ed\n",
      "  Building wheel for sgmllib3k (setup.py) ... \u001b[?25l\u001b[?25hdone\n",
      "  Created wheel for sgmllib3k: filename=sgmllib3k-1.0.0-cp36-none-any.whl size=6066 sha256=9978b3fe94fd4617481e0ee8fd62467261a72a1d31f0ce4106cb4ce82df678eb\n",
      "  Stored in directory: /root/.cache/pip/wheels/f1/80/5a/444ba08a550cdd241bd9baf8bae44be750efe370adb944506a\n",
      "Successfully built tinysegmenter jieba3k feedfinder2 sgmllib3k\n",
      "Installing collected packages: tinysegmenter, requests-file, tldextract, cssselect, sgmllib3k, feedparser, jieba3k, feedfinder2, newspaper3k\n",
      "Successfully installed cssselect-1.1.0 feedfinder2-0.0.4 feedparser-6.0.2 jieba3k-0.35.1 newspaper3k-0.2.8 requests-file-1.5.1 sgmllib3k-1.0.0 tinysegmenter-0.3 tldextract-3.1.0\n"
     ]
    }
   ],
   "source": [
    "pip install newspaper3k"
   ]
  },
  {
   "cell_type": "code",
   "execution_count": null,
   "metadata": {
    "id": "1sCzxmhGUKEt"
   },
   "outputs": [],
   "source": []
  },
  {
   "cell_type": "code",
   "execution_count": 6,
   "metadata": {
    "id": "2zTF9N26UMtH"
   },
   "outputs": [],
   "source": [
    "from newspaper import Article\n",
    "import random\n",
    "import string\n",
    "import nltk\n",
    "from sklearn.feature_extraction.text import CountVectorizer\n",
    "from sklearn.metrics.pairwise import cosine_similarity\n",
    "import numpy as np\n",
    "import warnings\n",
    "warnings.filterwarnings('ignore')"
   ]
  },
  {
   "cell_type": "code",
   "execution_count": 7,
   "metadata": {
    "colab": {
     "base_uri": "https://localhost:8080/"
    },
    "id": "JQhza4GaU4Qe",
    "outputId": "36193993-7a76-4ee1-e62a-3840a672b8e3"
   },
   "outputs": [
    {
     "data": {
      "text/plain": [
       "True"
      ]
     },
     "execution_count": 7,
     "metadata": {
      "tags": []
     },
     "output_type": "execute_result"
    }
   ],
   "source": [
    "nltk.download('punkt',quiet=True)"
   ]
  },
  {
   "cell_type": "code",
   "execution_count": 9,
   "metadata": {
    "id": "ZvqVESA3VIan"
   },
   "outputs": [],
   "source": [
    "#get the article\n",
    "article=Article('https://www.statpearls.com/ArticleLibrary/viewarticle/18878')\n",
    "article.download()\n",
    "article.parse()\n",
    "article.nlp()\n",
    "corpus=article.text"
   ]
  },
  {
   "cell_type": "code",
   "execution_count": 10,
   "metadata": {
    "colab": {
     "base_uri": "https://localhost:8080/"
    },
    "id": "1GtTYwibVIcz",
    "outputId": "3addd6cb-e538-4098-ddd8-024d5a4b0f8f"
   },
   "outputs": [
    {
     "name": "stdout",
     "output_type": "stream",
     "text": [
      "Introduction As defined by the American Heart Association and the American College of Cardiology, \"(sudden) cardiac arrest is the sudden cessation of cardiac activity so that the victim becomes unresponsive, with no normal breathing and no signs of circulation. If corrective measures are not taken rapidly, this condition progresses to sudden death. Cardiac arrest should be used to signify an event as described above, that is reversed, usually by CPR and/or defibrillation or cardioversion, or cardiac pacing. Sudden cardiac death should not be used to describe events that are not fatal.\"[1] Each year more than 400,000 Americans succumb to sudden cardiac death.[2] Those suffering from cardiac arrest may or may not have previously diagnosed with heart disease. The cause of cardiac arrest varies by population and age, most commonly occurring in those with a previous diagnosis of heart disease. Most of all cardiac deaths are sudden and usually unexpected, which has proven to be uniformly fatal in the past. However, bystander cardiopulmonary resuscitation (CPR) and advances within emergency medical services (EMS) have proven life-saving interventions. Despite this, approximately 10% of those suffering from cardiac arrest leave the hospital alive, most of which are neurologically impaired.[3]\n",
      "\n",
      "Etiology Cardiac arrest is usually due to underlying structural cardiac disease. Seventy percent of cardiac arrest cases are thought to be due to ischemic coronary disease[2], the leading cause of cardiac arrest. Other structural causes include congestive heart failure, left ventricular hypertrophy, congenital coronary artery abnormalities, arrhythmogenic right ventricular dysplasia, hypertrophic obstructive cardiomyopathy, and cardiac tamponade. Nonstructural cardiac causes include Brugada syndrome, Wolf-Parkinson-White syndrome and congenital long QT syndrome. There are many non-cardiac etiologies including intracranial hemorrhage, pulmonary embolism, pneumothorax, primary respiratory arrest, toxic ingestions including drug overdose, electrolyte abnormalities, severe infection (sepsis), hypothermia, or trauma.\n",
      "\n",
      "Epidemiology Occlusive (ischemic) coronary disease is the leading cause of cardiac arrest and sudden cardiac death.[4] An initial peak of sudden death occurs from birth to 6 months of age, from sudden infant death syndrome. Incidence is typically very low until reaching a second peak between ages 45 to 75. Interestingly, the most common cause of cardiac death seen in adolescent and young adults mirrors that of middle-aged and older adults.[5] Within the United States, up to 70% of all sudden cardiac death is due to underlying coronary heart disease.[2] The incidence of cardiac death is lower for women at a younger age when compared to males.[6] Despite the lower risk for women, risk factors for occlusive heart disease such as hypertension, hyperlipidemia, diabetes, cigarette smoking, increasing age and family history of coronary disease continue to predispose to cardiac death, as in males.[6]\n",
      "\n",
      "History and Physical In many patients, warning symptoms may precede a cardiac arrest. However, many times these symptoms are unrecognized or ignored by the individual.[7] Many patients who survive cardiac arrest have amnesia, not allowing for the recollection of symptoms before an event. Data obtained from those who did not have amnesia, from family members and/or from those who witnessed the event shows that the most common symptom was chest pain.[7] Appropriately, this mirrors the most common presentations of acute coronary ischemia. An individual found to be in cardiac arrest will be unresponsive, without a pulse, and will not be breathing. A quick head-to-toe assessment will help guide treatment.\n",
      "\n",
      "Evaluation While treating a patient in cardiac arrest, little to no blood or imaging testing is necessary. If one can obtain point-of-care testing, a potassium and glucose level may be beneficial. Point-of-care ultrasound to look for cardiac activity may also be beneficial if it does not interfere with resuscitation efforts.[8]\n",
      "\n",
      "Treatment / Management A patient in cardiac arrest is treated in multiple different stages. The interventions that have proven to reverse cardiac arrest include early CPR and early defibrillation. The initial step involves identification and basic life-support measures. If public access defibrillation is available, it should be activated and utilized if needed. Next, advanced life support measures are used, including intravenous or intraosseous medication administration. If return of spontaneous circulation (ROSC) is obtained, the patient will undergo post-resuscitation care with subsequent long-term management. Identification of a cardiac arrest victim includes assuring a patient is unresponsive, without central pulses and not breathing normally. Once a victim is identified, immediate CPR and activation of the emergency response system should be of priority. More recently, public access defibrillation has added another layer of response. Treatment of cardiac arrest depends on rescuer scope of practice: Lay Rescuer: Treatment includes hands-only CPR and utilization of AED, if available.[9][10] If a patient has had a drowning episode, they can attempt two rescue breaths, since the cause of cardiac arrest is likely from a primary respiratory arrest. If there is no response to rescue breathing, CPR should be initiated. One should continue CPR until the arrival of emergency responders. Basic Life Support Treatment for those who are certified to practice basic life support (BLS) includes treatment as above, with the addition of ventilation during active CPR. Current guidelines recommend 2 breaths for every 30 compressions (30:2).[9] Providers can also manipulate the airway to aid in airway patency, thus, allowing for proper ventilation. These maneuvers include the head-tilt, chin-lift[11], and the jaw thrust[12]. Oral airway adjuncts including the oral pharyngeal airway (OPA) and the nasopharyngeal airway (NPA) should also be utilized to benefit ventilation. Advanced Life Support Providers can use BLS treatment with the addition of medications and advanced airways, including supraglottic airway devices (King LT, Igel) and endotracheal intubation. Medications used in the cardiac arrest include Epinephrine and Amiodarone. Advanced life support (ALS) providers have the additional benefit of cardiac rhythm interpretation, allowing for quicker defibrillation if indicated. Advanced Cardiac Life Support (ACLS) can teach providers the algorithms used to resuscitate a patient in cardiac arrest. Physician Providers can use ALS treatment and progress to a wide scope of practice dependent on medical versus traumatic etiology. Medical Medical cardiac arrest patients are treated with ALS as discussed above. These patients can also be placed on extracorporeal membrane oxygenation (ECMO).[13] This allows for oxygenation of the victim's blood supply until the cardiac function is restored. Trauma Trauma patients can be divided into blunt (motor vehicle accident) versus penetrating (gun-shot wound). Blunt traumatic arrests are usually secondary to a large vessel injury. Patients usually succumb to their injuries immediately after the event takes place. Most blunt trauma arrest patients are deemed to be futile upon arrival of first responders. Victims of penetrating trauma are more like to survive when compared to blunt traumatic arrests.[14] Penetrating trauma patients are typically treated with bilateral needle decompressions. If ROSC is not obtained and if within a non-futile time frame, patients can undergo a resuscitative thoracotomy. This will allow for direct visualization and, if needed, an intervention of the heart, lungs and large vessels.[14] Another technique that is still under evaluation is resuscitative endovascular balloon occlusion of the aorta (REBOA).[15] This involves the placement of an endovascular balloon within the aorta to control hemorrhage, similar to cross-clamping the aorta, which is a manual technique to control hemorrhage during a resuscitative thoracotomy.\n",
      "\n",
      "Differential Diagnosis Syncope is a temporary loss of consciousness that is usually caused by decreased blood flow to the brain. Patients who experience syncope are transiently unresponsive as are all individuals experiencing cardiac arrest. However, patients who are in cardiac arrest will not have a normal breathing pattern or a pulse, differentiating syncope from cardiac arrest. A seizure can also be mistaken for cardiac arrest. Patients having a seizure will be unresponsive and will probably have abnormal respirations. Abnormal rhythmic activity and a presence of a pulse differentiate seizure from cardiac arrest. Overdose, particularly from opiates, can lead to a patient who is unresponsive and not breathing normally. The presence of a pulse will differentiate opiate overdose from cardiac arrest.\n",
      "\n",
      "Prognosis Factors that are proven to improve survivability include witnessed cardiac arrest with immediate CPR and utilization of defibrillation when indicated.[16] Young and healthy patients are more likely to obtain ROSC compared to the elderly and those who have more co-morbidities. Those who are a victim of penetrating trauma have an increased chance of survival than blunt traumatic arrest. Studies have not shown proven benefit for ALS level of care in cardiac arrest, including endotracheal intubation and intravenous (IV) medication administration.[17]\n",
      "\n",
      "Complications Numerous complications can occur during a cardiac arrest. Although not common, the most detrimental complication for a patient in a shockable rhythm is AED failure. Other complications include inability to obtain IV/IO access. After ROSC, failing to secure and/ or maintain a definitive airway device could lead to a secondary cardiac arrest. During a traumatic etiology, malposition of needle thoracotomy or pericardiocentesis will also lead to complications.\n",
      "\n",
      "Postoperative and Rehabilitation Care If ROSC is obtained, the determination to provide targeted temperature management will be made. Candidates for targeted temperature management include those who have a medical etiology, are unresponsive and are stable. Targeted temperature management has shown to improve mortality and neurological outcomes in patients who have survived a medical cardiac arrest.[18] After stabilized from their cardiac event, the patient’s respiratory status is assessed. If the patient is unable to be successfully extubated, a tracheostomy can be placed to maintain a patent airway. To gain nutrition, a percutaneous endoscopic gastrostomy (PEG) tube is commonly placed. Patients who require a tracheostomy and PEG tube placement will usually have a prolonged recovery time. These individuals are placed in long-term acute care (LTAC) facilities for care and rehabilitation. Patients who are successfully extubated will still endure a prolonged recovery; however, they are usually more functional.\n",
      "\n",
      "Consultations If a cardiac arrest is due to traumatic etiology, trauma surgery is usually consulted to aid with resuscitation, including resuscitative thoracotomy. If ROSC is obtained after a medical cardiac arrest, the emergency room physician will call upon the intensive care team to take care of the patient. If the medical cardiac arrest is deemed secondary to a primary cardiac etiology, cardiology should be consulted to see what intervention is appropriate.\n",
      "\n",
      "Deterrence and Patient Education Most cardiac arrests occur in an out-of-hospital setting. Since immediate CPR and utilization of the AED are the 2 main interventions shown to aid in patient outcome,[19][20] one can see why training laypersons with adequate CPR skills can be life-saving. Despite training, there continues to be a hesitancy to initiate lay rescuer CPR.[21] This could be due to a lack of cardiac arrest recognition, lack of encouragement, or lack of confidence. The patient may also be unreachable or unmovable by the lay rescuer, hindering from optimal performance.\n",
      "\n",
      "Pearls and Other Issues In hopes to potentially delay cardiac arrest within the general population, one can undergo risk stratification to identify those who may benefit from certain interventions, including a stress test and screening ECG. Clinicians should educate the patient about the benefits of Daily exercise,[22] a healthy diet, effective treatment of hypercholesterolemia, effective treatment of hypertension, effective treatment of diabetes and smoking cessation[23] Patients with post-myocardial infarction and who have diagnosed congestive heart failure can benefit from medication specific medication adjustment, including the addition of beta blockers and angiotensin-converting enzyme inhibitors. Select patients can also benefit from ICD implantation.\n",
      "\n",
      "Enhancing Healthcare Team Outcomes The majority of patients who have cardiac arrest have underlying coronary artery disease. Alteration of modifiable risk factors and medication adjustment can delay the onset of coronary heart disease, potentially delaying cardiac arrest. Despite the many treatments available for cardiac arrest, the majority of patients have a poor prognosis. However, many lives can still be saved with the basic, the most important interventions, including defibrillation and bystander CPR. Promotion of such education to loved ones and others interested can be lifesaving. All clinicians who see patients should be familiar with the basic principles of resuscitation of a patient that has just arrested. In the hospital, the resuscitation is carried by an interprofessional team that attends all cardiac arrest events. Outside the hospital, the resuscitation may be carried out by the public or a healthcare worker. In each case, there has to be some in charge and running the resuscitation process. In the hospital, nurses are responsible for bringing the equipment to the patient's room and documenting the event. In all cases, everyone has an assigned role so that the resuscitation is undertaken without delay. Unfortunately, despite optimal resuscitation, most patients have a poor outcome or do not make it. Those who survive a near-fatal arrest are monitored in the ICU. In hopes to potentially delay cardiac arrest within the general population, one can undergo risk stratification to identify those who may benefit from certain interventions, including a stress test and screening ECG. Clinicians should educate the patient about the benefits of Daily exercise,[22] a healthy diet, effective treatment of hypercholesterolemia, effective treatment of hypertension, effective treatment of diabetes and smoking cessation[23] Patients with post-myocardial infarction and who have diagnosed congestive heart failure can benefit from medication specific medication adjustment, including the addition of beta-blockers and angiotensin-converting enzyme inhibitors. Select patients can also benefit from ICD implantation.\n"
     ]
    }
   ],
   "source": [
    "print(corpus)"
   ]
  },
  {
   "cell_type": "code",
   "execution_count": 11,
   "metadata": {
    "id": "aUk0BcPTVIhH"
   },
   "outputs": [],
   "source": [
    "#Tokenization\n",
    "text=corpus\n",
    "sentence_list=nltk.sent_tokenize(text)"
   ]
  },
  {
   "cell_type": "code",
   "execution_count": 12,
   "metadata": {
    "colab": {
     "base_uri": "https://localhost:8080/"
    },
    "id": "g7SFM1vFWJXa",
    "outputId": "44772f30-58b5-4faa-cb25-eb4b7ca9a0a7"
   },
   "outputs": [
    {
     "name": "stdout",
     "output_type": "stream",
     "text": [
      "['Introduction As defined by the American Heart Association and the American College of Cardiology, \"(sudden) cardiac arrest is the sudden cessation of cardiac activity so that the victim becomes unresponsive, with no normal breathing and no signs of circulation.', 'If corrective measures are not taken rapidly, this condition progresses to sudden death.', 'Cardiac arrest should be used to signify an event as described above, that is reversed, usually by CPR and/or defibrillation or cardioversion, or cardiac pacing.', 'Sudden cardiac death should not be used to describe events that are not fatal.', '\"[1] Each year more than 400,000 Americans succumb to sudden cardiac death.', '[2] Those suffering from cardiac arrest may or may not have previously diagnosed with heart disease.', 'The cause of cardiac arrest varies by population and age, most commonly occurring in those with a previous diagnosis of heart disease.', 'Most of all cardiac deaths are sudden and usually unexpected, which has proven to be uniformly fatal in the past.', 'However, bystander cardiopulmonary resuscitation (CPR) and advances within emergency medical services (EMS) have proven life-saving interventions.', 'Despite this, approximately 10% of those suffering from cardiac arrest leave the hospital alive, most of which are neurologically impaired.', '[3]\\n\\nEtiology Cardiac arrest is usually due to underlying structural cardiac disease.', 'Seventy percent of cardiac arrest cases are thought to be due to ischemic coronary disease[2], the leading cause of cardiac arrest.', 'Other structural causes include congestive heart failure, left ventricular hypertrophy, congenital coronary artery abnormalities, arrhythmogenic right ventricular dysplasia, hypertrophic obstructive cardiomyopathy, and cardiac tamponade.', 'Nonstructural cardiac causes include Brugada syndrome, Wolf-Parkinson-White syndrome and congenital long QT syndrome.', 'There are many non-cardiac etiologies including intracranial hemorrhage, pulmonary embolism, pneumothorax, primary respiratory arrest, toxic ingestions including drug overdose, electrolyte abnormalities, severe infection (sepsis), hypothermia, or trauma.', 'Epidemiology Occlusive (ischemic) coronary disease is the leading cause of cardiac arrest and sudden cardiac death.', '[4] An initial peak of sudden death occurs from birth to 6 months of age, from sudden infant death syndrome.', 'Incidence is typically very low until reaching a second peak between ages 45 to 75.', 'Interestingly, the most common cause of cardiac death seen in adolescent and young adults mirrors that of middle-aged and older adults.', '[5] Within the United States, up to 70% of all sudden cardiac death is due to underlying coronary heart disease.', '[2] The incidence of cardiac death is lower for women at a younger age when compared to males.', '[6] Despite the lower risk for women, risk factors for occlusive heart disease such as hypertension, hyperlipidemia, diabetes, cigarette smoking, increasing age and family history of coronary disease continue to predispose to cardiac death, as in males.', '[6]\\n\\nHistory and Physical In many patients, warning symptoms may precede a cardiac arrest.', 'However, many times these symptoms are unrecognized or ignored by the individual.', '[7] Many patients who survive cardiac arrest have amnesia, not allowing for the recollection of symptoms before an event.', 'Data obtained from those who did not have amnesia, from family members and/or from those who witnessed the event shows that the most common symptom was chest pain.', '[7] Appropriately, this mirrors the most common presentations of acute coronary ischemia.', 'An individual found to be in cardiac arrest will be unresponsive, without a pulse, and will not be breathing.', 'A quick head-to-toe assessment will help guide treatment.', 'Evaluation While treating a patient in cardiac arrest, little to no blood or imaging testing is necessary.', 'If one can obtain point-of-care testing, a potassium and glucose level may be beneficial.', 'Point-of-care ultrasound to look for cardiac activity may also be beneficial if it does not interfere with resuscitation efforts.', '[8]\\n\\nTreatment / Management A patient in cardiac arrest is treated in multiple different stages.', 'The interventions that have proven to reverse cardiac arrest include early CPR and early defibrillation.', 'The initial step involves identification and basic life-support measures.', 'If public access defibrillation is available, it should be activated and utilized if needed.', 'Next, advanced life support measures are used, including intravenous or intraosseous medication administration.', 'If return of spontaneous circulation (ROSC) is obtained, the patient will undergo post-resuscitation care with subsequent long-term management.', 'Identification of a cardiac arrest victim includes assuring a patient is unresponsive, without central pulses and not breathing normally.', 'Once a victim is identified, immediate CPR and activation of the emergency response system should be of priority.', 'More recently, public access defibrillation has added another layer of response.', 'Treatment of cardiac arrest depends on rescuer scope of practice: Lay Rescuer: Treatment includes hands-only CPR and utilization of AED, if available.', '[9][10] If a patient has had a drowning episode, they can attempt two rescue breaths, since the cause of cardiac arrest is likely from a primary respiratory arrest.', 'If there is no response to rescue breathing, CPR should be initiated.', 'One should continue CPR until the arrival of emergency responders.', 'Basic Life Support Treatment for those who are certified to practice basic life support (BLS) includes treatment as above, with the addition of ventilation during active CPR.', 'Current guidelines recommend 2 breaths for every 30 compressions (30:2).', '[9] Providers can also manipulate the airway to aid in airway patency, thus, allowing for proper ventilation.', 'These maneuvers include the head-tilt, chin-lift[11], and the jaw thrust[12].', 'Oral airway adjuncts including the oral pharyngeal airway (OPA) and the nasopharyngeal airway (NPA) should also be utilized to benefit ventilation.', 'Advanced Life Support Providers can use BLS treatment with the addition of medications and advanced airways, including supraglottic airway devices (King LT, Igel) and endotracheal intubation.', 'Medications used in the cardiac arrest include Epinephrine and Amiodarone.', 'Advanced life support (ALS) providers have the additional benefit of cardiac rhythm interpretation, allowing for quicker defibrillation if indicated.', 'Advanced Cardiac Life Support (ACLS) can teach providers the algorithms used to resuscitate a patient in cardiac arrest.', 'Physician Providers can use ALS treatment and progress to a wide scope of practice dependent on medical versus traumatic etiology.', 'Medical Medical cardiac arrest patients are treated with ALS as discussed above.', 'These patients can also be placed on extracorporeal membrane oxygenation (ECMO).', \"[13] This allows for oxygenation of the victim's blood supply until the cardiac function is restored.\", 'Trauma Trauma patients can be divided into blunt (motor vehicle accident) versus penetrating (gun-shot wound).', 'Blunt traumatic arrests are usually secondary to a large vessel injury.', 'Patients usually succumb to their injuries immediately after the event takes place.', 'Most blunt trauma arrest patients are deemed to be futile upon arrival of first responders.', 'Victims of penetrating trauma are more like to survive when compared to blunt traumatic arrests.', '[14] Penetrating trauma patients are typically treated with bilateral needle decompressions.', 'If ROSC is not obtained and if within a non-futile time frame, patients can undergo a resuscitative thoracotomy.', 'This will allow for direct visualization and, if needed, an intervention of the heart, lungs and large vessels.', '[14] Another technique that is still under evaluation is resuscitative endovascular balloon occlusion of the aorta (REBOA).', '[15] This involves the placement of an endovascular balloon within the aorta to control hemorrhage, similar to cross-clamping the aorta, which is a manual technique to control hemorrhage during a resuscitative thoracotomy.', 'Differential Diagnosis Syncope is a temporary loss of consciousness that is usually caused by decreased blood flow to the brain.', 'Patients who experience syncope are transiently unresponsive as are all individuals experiencing cardiac arrest.', 'However, patients who are in cardiac arrest will not have a normal breathing pattern or a pulse, differentiating syncope from cardiac arrest.', 'A seizure can also be mistaken for cardiac arrest.', 'Patients having a seizure will be unresponsive and will probably have abnormal respirations.', 'Abnormal rhythmic activity and a presence of a pulse differentiate seizure from cardiac arrest.', 'Overdose, particularly from opiates, can lead to a patient who is unresponsive and not breathing normally.', 'The presence of a pulse will differentiate opiate overdose from cardiac arrest.', 'Prognosis Factors that are proven to improve survivability include witnessed cardiac arrest with immediate CPR and utilization of defibrillation when indicated.', '[16] Young and healthy patients are more likely to obtain ROSC compared to the elderly and those who have more co-morbidities.', 'Those who are a victim of penetrating trauma have an increased chance of survival than blunt traumatic arrest.', 'Studies have not shown proven benefit for ALS level of care in cardiac arrest, including endotracheal intubation and intravenous (IV) medication administration.', '[17]\\n\\nComplications Numerous complications can occur during a cardiac arrest.', 'Although not common, the most detrimental complication for a patient in a shockable rhythm is AED failure.', 'Other complications include inability to obtain IV/IO access.', 'After ROSC, failing to secure and/ or maintain a definitive airway device could lead to a secondary cardiac arrest.', 'During a traumatic etiology, malposition of needle thoracotomy or pericardiocentesis will also lead to complications.', 'Postoperative and Rehabilitation Care If ROSC is obtained, the determination to provide targeted temperature management will be made.', 'Candidates for targeted temperature management include those who have a medical etiology, are unresponsive and are stable.', 'Targeted temperature management has shown to improve mortality and neurological outcomes in patients who have survived a medical cardiac arrest.', '[18] After stabilized from their cardiac event, the patient’s respiratory status is assessed.', 'If the patient is unable to be successfully extubated, a tracheostomy can be placed to maintain a patent airway.', 'To gain nutrition, a percutaneous endoscopic gastrostomy (PEG) tube is commonly placed.', 'Patients who require a tracheostomy and PEG tube placement will usually have a prolonged recovery time.', 'These individuals are placed in long-term acute care (LTAC) facilities for care and rehabilitation.', 'Patients who are successfully extubated will still endure a prolonged recovery; however, they are usually more functional.', 'Consultations If a cardiac arrest is due to traumatic etiology, trauma surgery is usually consulted to aid with resuscitation, including resuscitative thoracotomy.', 'If ROSC is obtained after a medical cardiac arrest, the emergency room physician will call upon the intensive care team to take care of the patient.', 'If the medical cardiac arrest is deemed secondary to a primary cardiac etiology, cardiology should be consulted to see what intervention is appropriate.', 'Deterrence and Patient Education Most cardiac arrests occur in an out-of-hospital setting.', 'Since immediate CPR and utilization of the AED are the 2 main interventions shown to aid in patient outcome,[19][20] one can see why training laypersons with adequate CPR skills can be life-saving.', 'Despite training, there continues to be a hesitancy to initiate lay rescuer CPR.', '[21] This could be due to a lack of cardiac arrest recognition, lack of encouragement, or lack of confidence.', 'The patient may also be unreachable or unmovable by the lay rescuer, hindering from optimal performance.', 'Pearls and Other Issues In hopes to potentially delay cardiac arrest within the general population, one can undergo risk stratification to identify those who may benefit from certain interventions, including a stress test and screening ECG.', 'Clinicians should educate the patient about the benefits of Daily exercise,[22] a healthy diet, effective treatment of hypercholesterolemia, effective treatment of hypertension, effective treatment of diabetes and smoking cessation[23] Patients with post-myocardial infarction and who have diagnosed congestive heart failure can benefit from medication specific medication adjustment, including the addition of beta blockers and angiotensin-converting enzyme inhibitors.', 'Select patients can also benefit from ICD implantation.', 'Enhancing Healthcare Team Outcomes The majority of patients who have cardiac arrest have underlying coronary artery disease.', 'Alteration of modifiable risk factors and medication adjustment can delay the onset of coronary heart disease, potentially delaying cardiac arrest.', 'Despite the many treatments available for cardiac arrest, the majority of patients have a poor prognosis.', 'However, many lives can still be saved with the basic, the most important interventions, including defibrillation and bystander CPR.', 'Promotion of such education to loved ones and others interested can be lifesaving.', 'All clinicians who see patients should be familiar with the basic principles of resuscitation of a patient that has just arrested.', 'In the hospital, the resuscitation is carried by an interprofessional team that attends all cardiac arrest events.', 'Outside the hospital, the resuscitation may be carried out by the public or a healthcare worker.', 'In each case, there has to be some in charge and running the resuscitation process.', \"In the hospital, nurses are responsible for bringing the equipment to the patient's room and documenting the event.\", 'In all cases, everyone has an assigned role so that the resuscitation is undertaken without delay.', 'Unfortunately, despite optimal resuscitation, most patients have a poor outcome or do not make it.', 'Those who survive a near-fatal arrest are monitored in the ICU.', 'In hopes to potentially delay cardiac arrest within the general population, one can undergo risk stratification to identify those who may benefit from certain interventions, including a stress test and screening ECG.', 'Clinicians should educate the patient about the benefits of Daily exercise,[22] a healthy diet, effective treatment of hypercholesterolemia, effective treatment of hypertension, effective treatment of diabetes and smoking cessation[23] Patients with post-myocardial infarction and who have diagnosed congestive heart failure can benefit from medication specific medication adjustment, including the addition of beta-blockers and angiotensin-converting enzyme inhibitors.', 'Select patients can also benefit from ICD implantation.']\n"
     ]
    }
   ],
   "source": [
    "print(sentence_list)"
   ]
  },
  {
   "cell_type": "code",
   "execution_count": 44,
   "metadata": {
    "id": "hfRNPL5IWJah"
   },
   "outputs": [],
   "source": [
    "#a function to return a random greeting response to a users\n",
    "def greeting_response(text):\n",
    "  text=text.lower()\n",
    "\n",
    "  #bots greeting response\n",
    "  bot_greeting=['hi','hey','howdy','hello','hola']\n",
    "  #users greeting\n",
    "  user_greeting=['hi','hey','hello','hola','greetings','wassup']\n",
    "\n",
    "\n",
    "  for word in text.split():\n",
    "    if word in user_greeting:\n",
    "      return random.choice(bot_greeting)\n"
   ]
  },
  {
   "cell_type": "code",
   "execution_count": 45,
   "metadata": {
    "id": "KwWSWxhzY-z7"
   },
   "outputs": [],
   "source": [
    "def index_sort(list_var):\n",
    "  length=len(list_var)\n",
    "  list_index=list(range(0,length))\n",
    "\n",
    "  x=list_var\n",
    "  for i in range(length):\n",
    "    for j in range(length):\n",
    "      if x[list_index[i]]> x[list_index[j]]:\n",
    "        #swap\n",
    "        temp = list_index[i]\n",
    "        list_index[i]=list_index[j]\n",
    "        list_index[j]=temp\n",
    "\n",
    "  return list_index      \n"
   ]
  },
  {
   "cell_type": "code",
   "execution_count": 46,
   "metadata": {
    "id": "UoxQzRaVWJdF"
   },
   "outputs": [],
   "source": [
    "#create the bits response\n",
    "def bot_response(user_input):\n",
    "  user_input = user_input.lower()\n",
    "  sentence_list.append(user_input)\n",
    "  bot_response=\"\"\n",
    "  cn=CountVectorizer().fit_transform(sentence_list)\n",
    "  similarity_scores=cosine_similarity(cn[-1],cn)\n",
    "  similarity_scores_list=similarity_scores.flatten()\n",
    "  index=index_sort(similarity_scores_list)\n",
    "  index=index[1:]\n",
    "  response_flag=0\n",
    "\n",
    "  j = 0\n",
    "  for i in range(len(index)):\n",
    "    if similarity_scores_list[index[i]] > 0.0:\n",
    "      bot_response =bot_response+''+sentence_list[index[i]]\n",
    "      response_flag = 1\n",
    "      j=j+1\n",
    "    if j>2:\n",
    "     break\n",
    "\n",
    "  if response_flag==0:\n",
    "    bot_response=bot_response+''+\"I apologize, I don't understand.\"\n",
    "\n",
    "\n",
    "  sentence_list.remove(user_input)\n",
    "  \n",
    "  \n",
    "  return bot_response \n"
   ]
  },
  {
   "cell_type": "code",
   "execution_count": 48,
   "metadata": {
    "colab": {
     "base_uri": "https://localhost:8080/"
    },
    "id": "gmjKUhJbmAyR",
    "outputId": "a401042f-9e34-48e8-e00e-edbc1cab041c"
   },
   "outputs": [
    {
     "name": "stdout",
     "output_type": "stream",
     "text": [
      "Doc Bot: I am Doctor Bot or Doc Bot for short. I will answer your queries about cardiac arrest\n",
      "hello\n",
      "Doc Bot: hello\n",
      "hi\n",
      "Doc Bot: hey\n",
      "hi\n",
      "Doc Bot: hey\n",
      "What is Cardiac arrest?\n",
      "Doc Bot: If the medical cardiac arrest is deemed secondary to a primary cardiac etiology, cardiology should be consulted to see what intervention is appropriate.[3]\n",
      "\n",
      "Etiology Cardiac arrest is usually due to underlying structural cardiac disease.Epidemiology Occlusive (ischemic) coronary disease is the leading cause of cardiac arrest and sudden cardiac death.\n",
      "Treatment for cardiac arrest?\n",
      "Doc Bot: A seizure can also be mistaken for cardiac arrest.[3]\n",
      "\n",
      "Etiology Cardiac arrest is usually due to underlying structural cardiac disease.However, patients who are in cardiac arrest will not have a normal breathing pattern or a pulse, differentiating syncope from cardiac arrest.\n",
      "sjhjeefkf\n",
      "Doc Bot: I apologize, I don't understand.\n",
      "exit\n",
      "Doc Bot: Chat with you later !\n"
     ]
    }
   ],
   "source": [
    "#start the chat\n",
    "print('Doc Bot: I am Doctor Bot or Doc Bot for short. I will answer your queries about cardiac arrest')\n",
    "\n",
    "exit_list = ['exit','see you later','bye','quit','break']\n",
    "\n",
    "while(True):\n",
    "  user_input = input()\n",
    "  if user_input.lower() in exit_list:\n",
    "    print('Doc Bot: Chat with you later !')\n",
    "    break\n",
    "  else:\n",
    "    if greeting_response(user_input) != None:\n",
    "      print('Doc Bot: '+greeting_response(user_input))  \n",
    "    else:\n",
    "      print('Doc Bot: '+bot_response(user_input))  "
   ]
  },
  {
   "cell_type": "code",
   "execution_count": 22,
   "metadata": {
    "colab": {
     "base_uri": "https://localhost:8080/"
    },
    "id": "SY3EjrMAao1H",
    "outputId": "df50936e-d790-4d9d-a8e7-9c3cde654a6c"
   },
   "outputs": [
    {
     "data": {
      "text/plain": [
       "array([0., 0., 0., 0., 0., 0., 0., 0., 0., 0., 0., 0., 0., 0., 0., 0., 0.,\n",
       "       0., 0., 0., 0., 0., 0., 0., 0., 0., 0., 0., 0., 0., 0., 0., 0., 0.,\n",
       "       0., 0., 0., 0., 0., 0., 0., 0., 0., 0., 0., 0., 0., 0., 0., 0., 0.,\n",
       "       0., 0., 0., 0., 0., 0., 0., 0., 0., 0., 0., 0., 0., 0., 0., 0., 0.,\n",
       "       0., 0., 0., 0., 0., 0., 0., 0., 0., 0., 0., 0., 0., 0., 0., 0., 0.,\n",
       "       0., 0., 0., 0., 0., 0., 0., 0., 0., 0., 0., 0., 0., 0., 0., 0., 0.,\n",
       "       0., 0., 0., 0., 0., 0., 0., 0., 0., 0., 0., 0., 0., 0., 0., 0., 0.,\n",
       "       0., 0., 1.])"
      ]
     },
     "execution_count": 22,
     "metadata": {
      "tags": []
     },
     "output_type": "execute_result"
    }
   ],
   "source": [
    "similarity_scores_list"
   ]
  },
  {
   "cell_type": "code",
   "execution_count": 24,
   "metadata": {
    "colab": {
     "base_uri": "https://localhost:8080/"
    },
    "id": "fsM407Qbat77",
    "outputId": "eb8ec2e5-bb0d-4b81-9d35-4f23a46d9690"
   },
   "outputs": [
    {
     "data": {
      "text/plain": [
       "[121,\n",
       " 1,\n",
       " 2,\n",
       " 3,\n",
       " 4,\n",
       " 5,\n",
       " 6,\n",
       " 7,\n",
       " 8,\n",
       " 9,\n",
       " 10,\n",
       " 11,\n",
       " 12,\n",
       " 13,\n",
       " 14,\n",
       " 15,\n",
       " 16,\n",
       " 17,\n",
       " 18,\n",
       " 19,\n",
       " 20,\n",
       " 21,\n",
       " 22,\n",
       " 23,\n",
       " 24,\n",
       " 25,\n",
       " 26,\n",
       " 27,\n",
       " 28,\n",
       " 29,\n",
       " 30,\n",
       " 31,\n",
       " 32,\n",
       " 33,\n",
       " 34,\n",
       " 35,\n",
       " 36,\n",
       " 37,\n",
       " 38,\n",
       " 39,\n",
       " 40,\n",
       " 41,\n",
       " 42,\n",
       " 43,\n",
       " 44,\n",
       " 45,\n",
       " 46,\n",
       " 47,\n",
       " 48,\n",
       " 49,\n",
       " 50,\n",
       " 51,\n",
       " 52,\n",
       " 53,\n",
       " 54,\n",
       " 55,\n",
       " 56,\n",
       " 57,\n",
       " 58,\n",
       " 59,\n",
       " 60,\n",
       " 61,\n",
       " 62,\n",
       " 63,\n",
       " 64,\n",
       " 65,\n",
       " 66,\n",
       " 67,\n",
       " 68,\n",
       " 69,\n",
       " 70,\n",
       " 71,\n",
       " 72,\n",
       " 73,\n",
       " 74,\n",
       " 75,\n",
       " 76,\n",
       " 77,\n",
       " 78,\n",
       " 79,\n",
       " 80,\n",
       " 81,\n",
       " 82,\n",
       " 83,\n",
       " 84,\n",
       " 85,\n",
       " 86,\n",
       " 87,\n",
       " 88,\n",
       " 89,\n",
       " 90,\n",
       " 91,\n",
       " 92,\n",
       " 93,\n",
       " 94,\n",
       " 95,\n",
       " 96,\n",
       " 97,\n",
       " 98,\n",
       " 99,\n",
       " 100,\n",
       " 101,\n",
       " 102,\n",
       " 103,\n",
       " 104,\n",
       " 105,\n",
       " 106,\n",
       " 107,\n",
       " 108,\n",
       " 109,\n",
       " 110,\n",
       " 111,\n",
       " 112,\n",
       " 113,\n",
       " 114,\n",
       " 115,\n",
       " 116,\n",
       " 117,\n",
       " 118,\n",
       " 119,\n",
       " 120,\n",
       " 0]"
      ]
     },
     "execution_count": 24,
     "metadata": {
      "tags": []
     },
     "output_type": "execute_result"
    }
   ],
   "source": [
    "list(index)"
   ]
  },
  {
   "cell_type": "code",
   "execution_count": null,
   "metadata": {
    "id": "gQdMoFHUgKn9"
   },
   "outputs": [],
   "source": []
  }
 ],
 "metadata": {
  "colab": {
   "name": "Smart chat bot.ipynb",
   "provenance": []
  },
  "kernelspec": {
   "display_name": "Python 3",
   "language": "python",
   "name": "python3"
  },
  "language_info": {
   "codemirror_mode": {
    "name": "ipython",
    "version": 3
   },
   "file_extension": ".py",
   "mimetype": "text/x-python",
   "name": "python",
   "nbconvert_exporter": "python",
   "pygments_lexer": "ipython3",
   "version": "3.8.3"
  }
 },
 "nbformat": 4,
 "nbformat_minor": 1
}
