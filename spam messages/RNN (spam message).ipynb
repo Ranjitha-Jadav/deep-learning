{
 "cells": [
  {
   "cell_type": "markdown",
   "metadata": {},
   "source": [
    "# Read In, Clean, And Split The Data"
   ]
  },
  {
   "cell_type": "code",
   "execution_count": 1,
   "metadata": {
    "id": "0qPFauOllYn9"
   },
   "outputs": [],
   "source": [
    "# Read in data and split into training and test set\n",
    "\n",
    "import numpy as np\n",
    "import pandas as pd\n",
    "from sklearn.model_selection import train_test_split\n",
    "pd.set_option('display.max_colwidth', 1000)\n",
    "\n",
    "messages = pd.read_csv('spam.csv', encoding='latin-1')\n",
    "messages = messages.drop(labels = [\"Unnamed: 2\", \"Unnamed: 3\", \"Unnamed: 4\"], axis = 1)\n",
    "messages.columns = [\"label\", \"text\"]\n",
    "labels = np.where(messages['label']=='spam', 1, 0)\n",
    "\n",
    "X_train, X_test, y_train, y_test = train_test_split(messages['text'],\n",
    "                                                    labels, test_size=0.2)"
   ]
  },
  {
   "cell_type": "markdown",
   "metadata": {},
   "source": [
    "# Prep Data For Modeling"
   ]
  },
  {
   "cell_type": "code",
   "execution_count": 2,
   "metadata": {
    "id": "GDio21CBlk-5"
   },
   "outputs": [],
   "source": [
    "# Import the tools we will need from keras\n",
    "from keras.preprocessing.text import Tokenizer\n",
    "from keras.preprocessing.sequence import pad_sequences"
   ]
  },
  {
   "cell_type": "code",
   "execution_count": 3,
   "metadata": {
    "id": "wGDUPMW9llSG"
   },
   "outputs": [],
   "source": [
    "# Initialize and fit the tokenizer\n",
    "tokenizer = Tokenizer()\n",
    "tokenizer.fit_on_texts(X_train)"
   ]
  },
  {
   "cell_type": "code",
   "execution_count": 4,
   "metadata": {
    "id": "0oByfFQ-lldD"
   },
   "outputs": [],
   "source": [
    "# Use that tokenizer to transform the text messages in the training and test sets\n",
    "X_train_seq = tokenizer.texts_to_sequences(X_train)\n",
    "X_test_seq = tokenizer.texts_to_sequences(X_test)"
   ]
  },
  {
   "cell_type": "code",
   "execution_count": 5,
   "metadata": {
    "colab": {
     "base_uri": "https://localhost:8080/"
    },
    "id": "Y56z-gwzl1ZD",
    "outputId": "d6f494b1-644d-4702-8399-4ada2071f356"
   },
   "outputs": [
    {
     "data": {
      "text/plain": [
       "[26, 247, 6, 3811, 72, 873, 6, 45, 47, 1677, 34, 233, 1678, 79, 284, 36, 6, 76]"
      ]
     },
     "execution_count": 5,
     "metadata": {
      "tags": []
     },
     "output_type": "execute_result"
    }
   ],
   "source": [
    "# What do these sequences look like?\n",
    "X_train_seq[0]"
   ]
  },
  {
   "cell_type": "code",
   "execution_count": 6,
   "metadata": {
    "id": "PhqF_eX5llef"
   },
   "outputs": [],
   "source": [
    "# Pad the sequences so each sequence is the same length\n",
    "X_train_seq_padded = pad_sequences(X_train_seq, 50)\n",
    "X_test_seq_padded = pad_sequences(X_test_seq, 50)"
   ]
  },
  {
   "cell_type": "code",
   "execution_count": 7,
   "metadata": {
    "colab": {
     "base_uri": "https://localhost:8080/"
    },
    "id": "wbtGsr6glli4",
    "outputId": "863b0b60-37be-41bf-a2f1-df0e966f4282"
   },
   "outputs": [
    {
     "data": {
      "text/plain": [
       "array([   0,    0,    0,    0,    0,    0,    0,    0,    0,    0,    0,\n",
       "          0,    0,    0,    0,    0,    0,    0,    0,    0,    0,    0,\n",
       "          0,    0,    0,    0,    0,    0,    0,    0,    0,    0,   26,\n",
       "        247,    6, 3811,   72,  873,    6,   45,   47, 1677,   34,  233,\n",
       "       1678,   79,  284,   36,    6,   76], dtype=int32)"
      ]
     },
     "execution_count": 7,
     "metadata": {
      "tags": []
     },
     "output_type": "execute_result"
    }
   ],
   "source": [
    "# What do these padded sequences look like?\n",
    "X_train_seq_padded[0]"
   ]
  },
  {
   "cell_type": "markdown",
   "metadata": {},
   "source": [
    "# Build Model"
   ]
  },
  {
   "cell_type": "code",
   "execution_count": 8,
   "metadata": {
    "id": "ay_knh4zllj_"
   },
   "outputs": [],
   "source": [
    "# Import the tools needed from keras and define functions to calculate recall and precision\n",
    "import keras.backend as K\n",
    "from keras.layers import Dense, Embedding, LSTM\n",
    "from keras.models import Sequential\n",
    "\n",
    "def recall_m(y_true, y_pred):\n",
    "        true_positives = K.sum(K.round(K.clip(y_true * y_pred, 0, 1)))\n",
    "        possible_positives = K.sum(K.round(K.clip(y_true, 0, 1)))\n",
    "        recall = true_positives / (possible_positives + K.epsilon())\n",
    "        return recall\n",
    "\n",
    "def precision_m(y_true, y_pred):\n",
    "        true_positives = K.sum(K.round(K.clip(y_true * y_pred, 0, 1)))\n",
    "        predicted_positives = K.sum(K.round(K.clip(y_pred, 0, 1)))\n",
    "        precision = true_positives / (predicted_positives + K.epsilon())\n",
    "        return precision"
   ]
  },
  {
   "cell_type": "code",
   "execution_count": 9,
   "metadata": {
    "colab": {
     "base_uri": "https://localhost:8080/"
    },
    "id": "58vTFraXl-LL",
    "outputId": "29aca023-56a8-4da9-f2b1-f981aa88b0d7"
   },
   "outputs": [
    {
     "name": "stdout",
     "output_type": "stream",
     "text": [
      "Model: \"sequential\"\n",
      "_________________________________________________________________\n",
      "Layer (type)                 Output Shape              Param #   \n",
      "=================================================================\n",
      "embedding (Embedding)        (None, None, 32)          255200    \n",
      "_________________________________________________________________\n",
      "lstm (LSTM)                  (None, 32)                8320      \n",
      "_________________________________________________________________\n",
      "dense (Dense)                (None, 32)                1056      \n",
      "_________________________________________________________________\n",
      "dense_1 (Dense)              (None, 1)                 33        \n",
      "=================================================================\n",
      "Total params: 264,609\n",
      "Trainable params: 264,609\n",
      "Non-trainable params: 0\n",
      "_________________________________________________________________\n"
     ]
    }
   ],
   "source": [
    "# Construct a simple RNN model\n",
    "model = Sequential()\n",
    "\n",
    "model.add(Embedding(len(tokenizer.index_word)+1, 32))\n",
    "model.add(LSTM(32, dropout=0, recurrent_dropout=0))\n",
    "model.add(Dense(32, activation='relu'))\n",
    "model.add(Dense(1, activation='sigmoid'))\n",
    "model.summary()"
   ]
  },
  {
   "cell_type": "code",
   "execution_count": 10,
   "metadata": {
    "id": "k9LO0lCkl-Nu"
   },
   "outputs": [],
   "source": [
    "# Compile the model\n",
    "model.compile(optimizer='adam',\n",
    "              loss='binary_crossentropy',\n",
    "              metrics=['accuracy', precision_m, recall_m])"
   ]
  },
  {
   "cell_type": "code",
   "execution_count": 11,
   "metadata": {
    "colab": {
     "base_uri": "https://localhost:8080/"
    },
    "id": "dPFiygdRl-Q8",
    "outputId": "7fc656ae-5d53-421e-9392-bab724398973"
   },
   "outputs": [
    {
     "name": "stdout",
     "output_type": "stream",
     "text": [
      "Epoch 1/10\n",
      "140/140 [==============================] - 7s 31ms/step - loss: 0.4326 - accuracy: 0.8788 - precision_m: 0.1112 - recall_m: 0.0879 - val_loss: 0.0787 - val_accuracy: 0.9812 - val_precision_m: 1.0000 - val_recall_m: 0.8686\n",
      "Epoch 2/10\n",
      "140/140 [==============================] - 4s 26ms/step - loss: 0.0427 - accuracy: 0.9888 - precision_m: 0.9641 - recall_m: 0.9168 - val_loss: 0.0615 - val_accuracy: 0.9874 - val_precision_m: 1.0000 - val_recall_m: 0.9137\n",
      "Epoch 3/10\n",
      "140/140 [==============================] - 4s 26ms/step - loss: 0.0095 - accuracy: 0.9974 - precision_m: 0.9958 - recall_m: 0.9826 - val_loss: 0.0638 - val_accuracy: 0.9865 - val_precision_m: 0.9745 - val_recall_m: 0.9241\n",
      "Epoch 4/10\n",
      "140/140 [==============================] - 4s 26ms/step - loss: 0.0034 - accuracy: 0.9991 - precision_m: 0.9858 - recall_m: 0.9814 - val_loss: 0.0651 - val_accuracy: 0.9865 - val_precision_m: 0.9881 - val_recall_m: 0.9194\n",
      "Epoch 5/10\n",
      "140/140 [==============================] - 4s 26ms/step - loss: 0.0026 - accuracy: 0.9995 - precision_m: 0.9971 - recall_m: 0.9955 - val_loss: 0.0901 - val_accuracy: 0.9812 - val_precision_m: 1.0000 - val_recall_m: 0.8741\n",
      "Epoch 6/10\n",
      "140/140 [==============================] - 4s 26ms/step - loss: 0.0012 - accuracy: 0.9998 - precision_m: 0.9948 - recall_m: 0.9936 - val_loss: 0.0992 - val_accuracy: 0.9821 - val_precision_m: 1.0000 - val_recall_m: 0.8798\n",
      "Epoch 7/10\n",
      "140/140 [==============================] - 4s 26ms/step - loss: 4.9147e-04 - accuracy: 0.9998 - precision_m: 0.9915 - recall_m: 0.9906 - val_loss: 0.0962 - val_accuracy: 0.9830 - val_precision_m: 1.0000 - val_recall_m: 0.8855\n",
      "Epoch 8/10\n",
      "140/140 [==============================] - 4s 26ms/step - loss: 3.0849e-04 - accuracy: 1.0000 - precision_m: 0.9905 - recall_m: 0.9905 - val_loss: 0.0858 - val_accuracy: 0.9839 - val_precision_m: 0.9833 - val_recall_m: 0.9010\n",
      "Epoch 9/10\n",
      "140/140 [==============================] - 4s 26ms/step - loss: 1.0369e-04 - accuracy: 1.0000 - precision_m: 0.9912 - recall_m: 0.9912 - val_loss: 0.0858 - val_accuracy: 0.9848 - val_precision_m: 0.9833 - val_recall_m: 0.9051\n",
      "Epoch 10/10\n",
      "140/140 [==============================] - 4s 25ms/step - loss: 8.7151e-05 - accuracy: 1.0000 - precision_m: 1.0000 - recall_m: 1.0000 - val_loss: 0.0927 - val_accuracy: 0.9857 - val_precision_m: 0.9905 - val_recall_m: 0.9051\n"
     ]
    }
   ],
   "source": [
    "# Fit the RNN model\n",
    "history = model.fit(X_train_seq_padded, y_train, \n",
    "                    batch_size=32, epochs=10,\n",
    "                    validation_data=(X_test_seq_padded, y_test))"
   ]
  },
  {
   "cell_type": "code",
   "execution_count": 12,
   "metadata": {
    "colab": {
     "base_uri": "https://localhost:8080/",
     "height": 809
    },
    "id": "9iSfZiBBmFtP",
    "outputId": "381f8a16-d66c-4a37-a52a-aa2999b7860a"
   },
   "outputs": [
    {
     "data": {
      "image/png": "[encoded data removed]",
      "text/plain": [
       "<Figure size 432x288 with 1 Axes>"
      ]
     },
     "metadata": {
      "needs_background": "light",
      "tags": []
     },
     "output_type": "display_data"
    },
    {
     "data": {
      "image/png": "[encoded data removed]",
      "text/plain": [
       "<Figure size 432x288 with 1 Axes>"
      ]
     },
     "metadata": {
      "needs_background": "light",
      "tags": []
     },
     "output_type": "display_data"
    },
    {
     "data": {
      "image/png": "[encoded data removed]",
      "text/plain": [
       "<Figure size 432x288 with 1 Axes>"
      ]
     },
     "metadata": {
      "needs_background": "light",
      "tags": []
     },
     "output_type": "display_data"
    }
   ],
   "source": [
    "# Plot the evaluation metrics by each epoch for the model to see if we are over or underfitting\n",
    "import matplotlib.pyplot as plt\n",
    "\n",
    "for i in ['accuracy', 'precision_m', 'recall_m']:\n",
    "    acc = history.history[i]\n",
    "    val_acc = history.history['val_{}'.format(i)]\n",
    "    epochs = range(1, len(acc) + 1)\n",
    "\n",
    "    plt.figure()\n",
    "    plt.plot(epochs, acc, label='Training Accuracy')\n",
    "    plt.plot(epochs, val_acc, label='Validation Accuracy')\n",
    "    plt.title('Results for {}'.format(i))\n",
    "    plt.legend()\n",
    "    plt.show()"
   ]
  },
  {
   "cell_type": "code",
   "execution_count": 12,
   "metadata": {
    "id": "ORxGXwJumFwD"
   },
   "outputs": [],
   "source": []
  },
  {
   "cell_type": "code",
   "execution_count": 12,
   "metadata": {
    "id": "pabVr60umFzR"
   },
   "outputs": [],
   "source": []
  },
  {
   "cell_type": "code",
   "execution_count": 12,
   "metadata": {
    "id": "D5AbRsdjmF1S"
   },
   "outputs": [],
   "source": []
  }
 ],
 "metadata": {
  "accelerator": "GPU",
  "colab": {
   "name": "Untitled0.ipynb",
   "provenance": []
  },
  "kernelspec": {
   "display_name": "Python 3",
   "language": "python",
   "name": "python3"
  },
  "language_info": {
   "codemirror_mode": {
    "name": "ipython",
    "version": 3
   },
   "file_extension": ".py",
   "mimetype": "text/x-python",
   "name": "python",
   "nbconvert_exporter": "python",
   "pygments_lexer": "ipython3",
   "version": "3.8.3"
  }
 },
 "nbformat": 4,
 "nbformat_minor": 1
}
